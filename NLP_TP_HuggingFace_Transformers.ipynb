{
 "cells": [
  {
   "cell_type": "markdown",
   "source": [
    "# NLP_TP Transformers\r\n",
    "### Abdelmoutalib khezane"
   ],
   "metadata": {}
  },
  {
   "cell_type": "markdown",
   "source": [
    "## --------------------------------------------------------------------------------------"
   ],
   "metadata": {}
  },
  {
   "cell_type": "markdown",
   "source": [
    "## 01- Sentiment analysis"
   ],
   "metadata": {}
  },
  {
   "cell_type": "code",
   "execution_count": 87,
   "source": [
    "from transformers import pipeline\r\n",
    "\r\n",
    "nlp = pipeline(\"sentiment-analysis\", model=\"nlptown/bert-base-multilingual-uncased-sentiment\")\r\n",
    "\r\n",
    "result = nlp(\"bien dit\")[0]\r\n",
    "print(result)\r\n",
    "print(f\"label: {result['label']}, with score: {round(result['score']*100, 2)}%\")\r\n",
    "\r\n",
    "result = nlp(\"mauvais travail\")[0]\r\n",
    "print(f\"label: {result['label']}, with score: {round(result['score']*100, 2)}%\")"
   ],
   "outputs": [
    {
     "output_type": "stream",
     "name": "stdout",
     "text": [
      "{'label': '4 stars', 'score': 0.4435526132583618}\n",
      "label: 4 stars, with score: 44.36%\n",
      "label: 1 star, with score: 72.54%\n"
     ]
    }
   ],
   "metadata": {
    "scrolled": true
   }
  },
  {
   "cell_type": "markdown",
   "source": [
    "## 02- Text generation"
   ],
   "metadata": {}
  },
  {
   "cell_type": "code",
   "execution_count": null,
   "source": [
    "from transformers import pipeline"
   ],
   "outputs": [],
   "metadata": {
    "scrolled": true
   }
  },
  {
   "cell_type": "code",
   "execution_count": 83,
   "source": [
    "# Frensh\r\n",
    "text_generator_fr = pipeline('text-generation', model='dbddv01/gpt2-french-small')\r\n",
    "\r\n",
    "print(text_generator_fr(\"je lis un\", max_length=50, do_sample=False))"
   ],
   "outputs": [
    {
     "output_type": "stream",
     "name": "stderr",
     "text": [
      "Setting `pad_token_id` to `eos_token_id`:50256 for open-end generation.\n"
     ]
    },
    {
     "output_type": "stream",
     "name": "stdout",
     "text": [
      "[{'generated_text': \"je lis un texte de la main de l'empereur, qui est publié en 1212. Il est suivi par un autre texte, qui est publié en 1214. Il est suivi par un autre texte, qui est publié en 1218. Il\"}]\n"
     ]
    }
   ],
   "metadata": {}
  },
  {
   "cell_type": "code",
   "execution_count": 84,
   "source": [
    "# Arabic\r\n",
    "text_generator_Ar = pipeline('text-generation', model='akhooli/gpt2-small-arabic')\r\n",
    "print(text_generator_Ar(\"في المغرب السياحة الجبلية \", max_length=50, do_sample=False))\r\n"
   ],
   "outputs": [
    {
     "output_type": "stream",
     "name": "stderr",
     "text": [
      "Setting `pad_token_id` to `eos_token_id`:50256 for open-end generation.\n"
     ]
    },
    {
     "output_type": "stream",
     "name": "stdout",
     "text": [
      "[{'generated_text': 'في المغرب السياحة الجبلية ادياد، كما يوجد بها العديد من المساجد، منها مسجد سيدي عبد الله، ومسجد سيدي عبد الله، ومسجد سيدي عبد الله، ومسجد سيدي عبد الله، ومسجد سيدي عبد الله، ومسجد سيدي عبد الله، ومسجد سيدي عبد الله'}]\n"
     ]
    }
   ],
   "metadata": {}
  },
  {
   "cell_type": "markdown",
   "source": [
    "## 03- Name entity recognition (NER)"
   ],
   "metadata": {}
  },
  {
   "cell_type": "code",
   "execution_count": 85,
   "source": [
    "\r\n",
    "from transformers import AutoTokenizer, AutoModelForTokenClassification\r\n",
    "from transformers import pipeline\r\n",
    "\r\n",
    "ner_english_recognition = pipeline(\"ner\", model=\"dslim/bert-base-NER\", tokenizer=\"dslim/bert-base-NER\")\r\n",
    "ner_arabic_recognition = pipeline(\"ner\", model=\"hatmimoha/arabic-ner\", tokenizer=\"hatmimoha/arabic-ner\")\r\n",
    "ner_french_recognition = pipeline(\"ner\", model=\"gilf/french-postag-model\", tokenizer=\"gilf/french-postag-model\")\r\n",
    "\r\n",
    "print(ner_arabic_recognition(\"في المغرب السياحة الجبلية\"))\r\n",
    " \r\n",
    "print(ner_english_recognition(\"good time\"))\r\n",
    "\r\n",
    "print(ner_french_recognition(\"je lis un\"))"
   ],
   "outputs": [
    {
     "output_type": "stream",
     "name": "stderr",
     "text": [
      "Asking to truncate to max_length but no maximum length is provided and the model has no predefined maximum length. Default to no truncation.\n"
     ]
    },
    {
     "output_type": "stream",
     "name": "stdout",
     "text": [
      "[{'entity': 'LABEL_12', 'score': 0.9995651, 'index': 1, 'word': 'في', 'start': 0, 'end': 2}, {'entity': 'LABEL_4', 'score': 0.99893975, 'index': 2, 'word': 'المغرب', 'start': 3, 'end': 9}, {'entity': 'LABEL_12', 'score': 0.99967027, 'index': 3, 'word': 'السياحة', 'start': 10, 'end': 17}, {'entity': 'LABEL_12', 'score': 0.9997578, 'index': 4, 'word': 'الجبلية', 'start': 18, 'end': 25}]\n",
      "[]\n",
      "[{'entity': 'CLS', 'score': 0.99967825, 'index': 1, 'word': 'je', 'start': 0, 'end': 2}, {'entity': 'V', 'score': 0.9995579, 'index': 2, 'word': 'li', 'start': 3, 'end': 5}, {'entity': 'V', 'score': 0.9974327, 'index': 3, 'word': '##s', 'start': 5, 'end': 6}, {'entity': 'DET', 'score': 0.9900251, 'index': 4, 'word': 'un', 'start': 7, 'end': 9}]\n"
     ]
    }
   ],
   "metadata": {}
  },
  {
   "cell_type": "markdown",
   "source": [
    "## 04- Question answering"
   ],
   "metadata": {}
  },
  {
   "cell_type": "code",
   "execution_count": 86,
   "source": [
    "from transformers import pipeline\r\n",
    "question_answering = pipeline(\"question-answering\")\r\n",
    "context = \"\"\"\r\n",
    "Le ville de Salé se trouve dans le plateau côtier large de 10 à 50 km, formé de plaines douces inclinées vers l’Océan Atlantique qui s'étend de Rabat-Salé à Skhirate-Témara, et du littoral atlantique au barrage Sidi Mohammed ben Abdellah9. L'altitude de la ville de Salé et du plateau côtier tout entier ne dépasse pas les 100 m10. Le fleuve Bouregreg qui sépare Rabat et Salé, donne une vallée plus ou moins large selon les endroits, pénétrant d’une quinzaine de kilomètres en amont de l’embouchure, surplombée par les plateaux de Bettana, Sala Al Jadida et de la commune rurale de Shoul du côté de Salé, et par ceux des quartiers de Hassan, El Youssoufia, Nahda et Akkrach du côté de Rabat. L'« arrière-pays » de Rabat-Salé est plutôt vert loin de l'urbanisation de masse, notamment grâce à la présence des forêts de la Mamora et de Témara, à proximité.\r\n",
    "\"\"\"\r\n",
    "question = \"Quelle est Sala Al Jadida?\"\r\n",
    "result = question_answering(question=question, context=context)\r\n",
    "print(\"Reponse:\", result['answer'])\r\n",
    "\r\n",
    "\r\n"
   ],
   "outputs": [
    {
     "output_type": "stream",
     "name": "stdout",
     "text": [
      "Reponse: commune rurale de Shoul du côté de Salé\n"
     ]
    }
   ],
   "metadata": {}
  },
  {
   "cell_type": "markdown",
   "source": [
    "## 05- Filling masked text"
   ],
   "metadata": {}
  },
  {
   "cell_type": "code",
   "execution_count": 89,
   "source": [
    "from transformers import pipeline\r\n",
    "\r\n",
    "nlp = pipeline(\"fill-mask\")\r\n",
    "\r\n",
    "from pprint import pprint\r\n",
    "pprint(nlp(f\"Les coronavirus sont des {nlp.tokenizer.mask_token} de la famille des Coronaviridae.\"))\r\n",
    "\r\n"
   ],
   "outputs": [
    {
     "output_type": "stream",
     "name": "stdout",
     "text": [
      "[{'score': 0.07141325622797012,\n",
      "  'sequence': 'Les coronavirus sont des fins de la famille des Coronaviridae.',\n",
      "  'token': 40863,\n",
      "  'token_str': ' fins'},\n",
      " {'score': 0.060414496809244156,\n",
      "  'sequence': 'Les coronavirus sont des mutations de la famille des '\n",
      "              'Coronaviridae.',\n",
      "  'token': 28513,\n",
      "  'token_str': ' mutations'},\n",
      " {'score': 0.04682721570134163,\n",
      "  'sequence': 'Les coronavirus sont des clones de la famille des '\n",
      "              'Coronaviridae.',\n",
      "  'token': 44001,\n",
      "  'token_str': ' clones'},\n",
      " {'score': 0.04283902421593666,\n",
      "  'sequence': 'Les coronavirus sont des parasites de la famille des '\n",
      "              'Coronaviridae.',\n",
      "  'token': 37891,\n",
      "  'token_str': ' parasites'},\n",
      " {'score': 0.04136008024215698,\n",
      "  'sequence': 'Les coronavirus sont des genes de la famille des Coronaviridae.',\n",
      "  'token': 14819,\n",
      "  'token_str': ' genes'}]\n"
     ]
    }
   ],
   "metadata": {
    "scrolled": true
   }
  },
  {
   "cell_type": "code",
   "execution_count": 91,
   "source": [
    "#Arabic\r\n",
    "arabic_fill_mask = pipeline('fill-mask', model='CAMeL-Lab/bert-base-camelbert-ca')\r\n",
    "pprint(arabic_fill_mask(\"جمعيات تدق ناقوس الخطر بشأن استنزاف الموارد[MASK]‬ بالجنوب الشرقي .\"))"
   ],
   "outputs": [
    {
     "output_type": "stream",
     "name": "stderr",
     "text": [
      "Some weights of the model checkpoint at CAMeL-Lab/bert-base-camelbert-ca were not used when initializing BertForMaskedLM: ['cls.seq_relationship.bias', 'cls.seq_relationship.weight']\n",
      "- This IS expected if you are initializing BertForMaskedLM from the checkpoint of a model trained on another task or with another architecture (e.g. initializing a BertForSequenceClassification model from a BertForPreTraining model).\n",
      "- This IS NOT expected if you are initializing BertForMaskedLM from the checkpoint of a model that you expect to be exactly identical (initializing a BertForSequenceClassification model from a BertForSequenceClassification model).\n"
     ]
    },
    {
     "output_type": "stream",
     "name": "stdout",
     "text": [
      "[{'score': 0.11413954198360443,\n",
      "  'sequence': 'جمعيات تدق ناقوس الخطر بشأن استنزاف الموارد التي بالجنوب '\n",
      "              'الشرقي.',\n",
      "  'token': 2061,\n",
      "  'token_str': 'التي'},\n",
      " {'score': 0.03722378611564636,\n",
      "  'sequence': 'جمعيات تدق ناقوس الخطر بشأن استنزاف الموارد المعروفة بالجنوب '\n",
      "              'الشرقي.',\n",
      "  'token': 14983,\n",
      "  'token_str': 'المعروفة'},\n",
      " {'score': 0.03433230519294739,\n",
      "  'sequence': 'جمعيات تدق ناقوس الخطر بشأن استنزاف الموارد الواردة بالجنوب '\n",
      "              'الشرقي.',\n",
      "  'token': 13647,\n",
      "  'token_str': 'الواردة'},\n",
      " {'score': 0.013632998801767826,\n",
      "  'sequence': 'جمعيات تدق ناقوس الخطر بشأن استنزاف الموارد الكثيرة بالجنوب '\n",
      "              'الشرقي.',\n",
      "  'token': 18894,\n",
      "  'token_str': 'الكثيرة'},\n",
      " {'score': 0.013485289178788662,\n",
      "  'sequence': 'جمعيات تدق ناقوس الخطر بشأن استنزاف الموارد الاقتصادية بالجنوب '\n",
      "              'الشرقي.',\n",
      "  'token': 5139,\n",
      "  'token_str': 'الاقتصادية'}]\n"
     ]
    }
   ],
   "metadata": {}
  },
  {
   "cell_type": "markdown",
   "source": [
    "## 06- Summarization"
   ],
   "metadata": {}
  },
  {
   "cell_type": "code",
   "execution_count": 92,
   "source": [
    "from transformers import pipeline\r\n",
    "\r\n",
    "summarizer = pipeline(\"summarization\")\r\n",
    "\r\n",
    "ARTICLE = \"\"\" \r\n",
    "Le Maroc était connu sous le nom de royaume de Marrakech, sous les trois dynasties qui avaient cette ville comme capitale. Puis, sous le nom de royaume de Fès, sous les dynasties qui résidaient à Fès. Au xixe siècle, les cartographes européens mentionnaient toujours un « royaume de Maroc », en indiquant l'ancienne capitale « Maroc » (pour Marrakech). Sous la dynastie des Alaouites, toujours au pouvoir, le pays est passé de l'appellation d'« Empire chérifien » à celle de « royaume du Maroc » en 195725, le sultan Sidi Mohammed ben Youssef en devenant le roi, en tant que Mohammed V. Il peut être aussi surnommé « Royaume chérifien », en référence au souverain alaouite, descendant du prophète de l'islam Mahomet, qualifié de « chérif ».\r\n",
    "\"\"\"\r\n",
    "print(summarizer(ARTICLE, max_length=130, min_length=30, do_sample=False))"
   ],
   "outputs": [
    {
     "output_type": "stream",
     "name": "stdout",
     "text": [
      "[{'summary_text': \" Le Maroc était connu sous le nom de royaume de Marrakech, sous les trois dynasties . Sous la dynastie des Alaouites, toujours au pouvoir, le pays passé de l'appellation d'« Empire chérifien » to celle de 'royaume du Maroc » en 195725 .\"}]\n"
     ]
    }
   ],
   "metadata": {}
  },
  {
   "cell_type": "markdown",
   "source": [
    "## 07- Translation"
   ],
   "metadata": {}
  },
  {
   "cell_type": "code",
   "execution_count": 93,
   "source": [
    "from transformers import pipeline\r\n",
    "# English to french\r\n",
    "translator = pipeline(\"translation_en_to_fr\")\r\n",
    "from transformers import AutoTokenizer, AutoModelForSeq2SeqLM\r\n",
    "\r\n",
    "pprint(translator(\"This allows people to understand complex terms or phrases.\", max_length=40))\r\n"
   ],
   "outputs": [
    {
     "output_type": "stream",
     "name": "stdout",
     "text": [
      "[{'translation_text': 'Cela permet aux gens de comprendre des termes ou des '\n",
      "                      'expressions complexes.'}]\n"
     ]
    }
   ],
   "metadata": {
    "scrolled": true
   }
  },
  {
   "cell_type": "code",
   "execution_count": 94,
   "source": [
    "# english to Arabic\r\n",
    "from transformers import MarianTokenizer, MarianMTModel\r\n",
    "\r\n",
    "tokenizer = MarianTokenizer.from_pretrained(\"marefa-nlp/marefa-mt-en-ar\")\r\n",
    "model = MarianMTModel.from_pretrained(\"marefa-nlp/marefa-mt-en-ar\")\r\n",
    "\r\n",
    "text = \"Mountain tourism in Morocco\"\r\n",
    "\r\n",
    "translated_tokens = model.generate(**tokenizer.prepare_seq2seq_batch(text, return_tensors=\"pt\"))\r\n",
    "Output_text = [tokenizer.decode(t, skip_special_tokens=True) for t in translated_tokens]\r\n",
    "\r\n",
    "print(Output_text)"
   ],
   "outputs": [
    {
     "output_type": "stream",
     "name": "stdout",
     "text": [
      "['السياحة الجبلية في المغرب']\n"
     ]
    }
   ],
   "metadata": {}
  },
  {
   "cell_type": "code",
   "execution_count": 95,
   "source": [
    "# Arabic to English\r\n",
    "from transformers import MBartForConditionalGeneration, MBart50TokenizerFast\r\n",
    "\r\n",
    "text_ar = \"السياحة الجبلية في المغرب\"\r\n",
    "\r\n",
    "model = MBartForConditionalGeneration.from_pretrained(\"facebook/mbart-large-50-many-to-many-mmt\")\r\n",
    "tokenizer = MBart50TokenizerFast.from_pretrained(\"facebook/mbart-large-50-many-to-many-mmt\")\r\n",
    "tokenizer.src_lang = \"ar_AR\"\r\n",
    "encoded_ar = tokenizer(text_ar, return_tensors=\"pt\")\r\n",
    "generated_tokens = model.generate(**encoded_ar, forced_bos_token_id=tokenizer.lang_code_to_id[\"en_XX\"])\r\n",
    "pprint(tokenizer.batch_decode(generated_tokens, skip_special_tokens=True))\r\n"
   ],
   "outputs": [
    {
     "output_type": "stream",
     "name": "stdout",
     "text": [
      "['Mountain tourism in Morocco.']\n"
     ]
    }
   ],
   "metadata": {}
  },
  {
   "cell_type": "markdown",
   "source": [
    "## 08- Feature extraction"
   ],
   "metadata": {}
  },
  {
   "cell_type": "code",
   "execution_count": 96,
   "source": [
    "from sklearn.feature_extraction.text import CountVectorizer\r\n",
    "\r\n",
    "# sentences.\r\n",
    "sentences = [\r\n",
    "    \"This is a sample sentence\",\r\n",
    "    \"I am interested in politics\",\r\n",
    "    \"You are a very good software engineer, engineer.\",]\r\n",
    "\r\n",
    "vectorizer = CountVectorizer(stop_words='english')\r\n",
    "\r\n",
    "vectorizer.fit(sentences)\r\n",
    "\r\n",
    "vectorizer.get_feature_names()"
   ],
   "outputs": [
    {
     "output_type": "execute_result",
     "data": {
      "text/plain": [
       "['engineer',\n",
       " 'good',\n",
       " 'interested',\n",
       " 'politics',\n",
       " 'sample',\n",
       " 'sentence',\n",
       " 'software']"
      ]
     },
     "metadata": {},
     "execution_count": 96
    }
   ],
   "metadata": {}
  },
  {
   "cell_type": "code",
   "execution_count": null,
   "source": [],
   "outputs": [],
   "metadata": {}
  }
 ],
 "metadata": {
  "kernelspec": {
   "display_name": "Python 3",
   "language": "python",
   "name": "python3"
  },
  "language_info": {
   "codemirror_mode": {
    "name": "ipython",
    "version": 3
   },
   "file_extension": ".py",
   "mimetype": "text/x-python",
   "name": "python",
   "nbconvert_exporter": "python",
   "pygments_lexer": "ipython3",
   "version": "3.8.8"
  }
 },
 "nbformat": 4,
 "nbformat_minor": 5
}